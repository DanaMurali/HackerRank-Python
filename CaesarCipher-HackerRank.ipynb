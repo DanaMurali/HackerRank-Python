{
 "cells": [
  {
   "cell_type": "code",
   "execution_count": 1,
   "id": "e51bd227",
   "metadata": {},
   "outputs": [],
   "source": [
    "#string length\n",
    "n = 11 \n",
    "#string itself\n",
    "s = 'middle-Outz' \n",
    "#number of rotations for alphabet\n",
    "k = 2"
   ]
  },
  {
   "cell_type": "code",
   "execution_count": 2,
   "id": "5314fee7",
   "metadata": {},
   "outputs": [],
   "source": [
    "# using ascii values for characters using temp [] to create temporary list"
   ]
  },
  {
   "cell_type": "code",
   "execution_count": 8,
   "id": "80a07c42",
   "metadata": {},
   "outputs": [],
   "source": [
    "list = []"
   ]
  },
  {
   "cell_type": "code",
   "execution_count": 9,
   "id": "ba5adcb6",
   "metadata": {},
   "outputs": [],
   "source": [
    "# convert characters to ascii value. Order of character returs the ascii value of character. http://sticksandstones.kstrom.com/appen.html"
   ]
  },
  {
   "cell_type": "code",
   "execution_count": 10,
   "id": "c9e92d17",
   "metadata": {},
   "outputs": [],
   "source": [
    "#converting entire string to a list because strings are immutable. Lists are mutable and we can chnage some values in the list.\n",
    "for characters in s:\n",
    "    list.append(ord(characters))"
   ]
  },
  {
   "cell_type": "code",
   "execution_count": 11,
   "id": "c2918046",
   "metadata": {},
   "outputs": [],
   "source": [
    "#Using a for loop to shift alphabets by 2 "
   ]
  },
  {
   "cell_type": "code",
   "execution_count": 27,
   "id": "a8b81d1d",
   "metadata": {},
   "outputs": [
    {
     "ename": "SyntaxError",
     "evalue": "'return' outside function (<ipython-input-27-010c2bb54725>, line 12)",
     "output_type": "error",
     "traceback": [
      "\u001b[0;36m  File \u001b[0;32m\"<ipython-input-27-010c2bb54725>\"\u001b[0;36m, line \u001b[0;32m12\u001b[0m\n\u001b[0;31m    return \"\".join(map(chr,list))\u001b[0m\n\u001b[0m    ^\u001b[0m\n\u001b[0;31mSyntaxError\u001b[0m\u001b[0;31m:\u001b[0m 'return' outside function\n"
     ]
    }
   ],
   "source": [
    "for i in range(n):\n",
    "    #checking for uppercase letters - ascii range is 65-90\n",
    "    if 65 <= list[i] <= 90:\n",
    "        # could just write like this: list[i] = list[i] + k, however this might go past 90 for char z rather than looping back to the start. \n",
    "        # if list[i] refers to ascii value for Z which is 90:\n",
    "        # 65 + (90 - 65 + k)%26 => if k = 3, then 65 + (25 + 3)%26 => 65 + 28%26 => 65+2 = 67th character (c) is 3 places away from char 90 (z)\n",
    "        list[i] = (65 + (list[i] - 65 + k)%26)\n",
    "    #checking for lowercase letters - ascii range 97-122\n",
    "    elif 97 <= list[i] <= 122:\n",
    "        list[i] = (97 + (list[i] - 97 + k)%26)\n",
    "#finally return in a string format using \"\".join - using map(chr, list) to amp each character to it's corresponding ascii value \n",
    "return \"\".join(map(chr,list))\n",
    "        "
   ]
  },
  {
   "cell_type": "code",
   "execution_count": 28,
   "id": "bcef4ef6",
   "metadata": {},
   "outputs": [],
   "source": [
    "def caesarCipher(s,k):\n",
    "    list = []\n",
    "    \n",
    "    for characters in s:\n",
    "        list.append(ord(characters))\n",
    "    \n",
    "    for i in range (n):\n",
    "        if 65 <= list[i] <= 90:\n",
    "            list[i] = 65 + (list[i] - 65 + k)%26\n",
    "        elif 97 <= list[i] <= 122:\n",
    "            list [i] = 97 + (list[i] - 97 + k)%26\n",
    "    return \"\".join(map(chr,list))"
   ]
  }
 ],
 "metadata": {
  "kernelspec": {
   "display_name": "Python 3",
   "language": "python",
   "name": "python3"
  },
  "language_info": {
   "codemirror_mode": {
    "name": "ipython",
    "version": 3
   },
   "file_extension": ".py",
   "mimetype": "text/x-python",
   "name": "python",
   "nbconvert_exporter": "python",
   "pygments_lexer": "ipython3",
   "version": "3.8.8"
  }
 },
 "nbformat": 4,
 "nbformat_minor": 5
}
