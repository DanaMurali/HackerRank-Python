{
 "cells": [
  {
   "cell_type": "code",
   "execution_count": 1,
   "id": "6cd7ba6b",
   "metadata": {},
   "outputs": [],
   "source": [
    "def countingSort(arr):\n",
    "#     creating array from 0 to 99\n",
    "    count = [0] * 100\n",
    "#     increment by one for every number in count array\n",
    "    for numbers in arr:\n",
    "        count[numbers] += 1\n",
    "        \n",
    "     return count "
   ]
  }
 ],
 "metadata": {
  "kernelspec": {
   "display_name": "Python 3",
   "language": "python",
   "name": "python3"
  },
  "language_info": {
   "codemirror_mode": {
    "name": "ipython",
    "version": 3
   },
   "file_extension": ".py",
   "mimetype": "text/x-python",
   "name": "python",
   "nbconvert_exporter": "python",
   "pygments_lexer": "ipython3",
   "version": "3.8.8"
  }
 },
 "nbformat": 4,
 "nbformat_minor": 5
}
