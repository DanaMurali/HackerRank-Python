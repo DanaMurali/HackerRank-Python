{
 "cells": [
  {
   "cell_type": "code",
   "execution_count": null,
   "id": "9a506654",
   "metadata": {},
   "outputs": [],
   "source": [
    "# list of lists, first element at index 0 is [1,2,3]"
   ]
  },
  {
   "cell_type": "code",
   "execution_count": 11,
   "id": "e663a67c",
   "metadata": {},
   "outputs": [],
   "source": [
    "arr = [[1,2,3],\n",
    "       [4,5,6],\n",
    "       [7,8,9]]"
   ]
  },
  {
   "cell_type": "code",
   "execution_count": 12,
   "id": "acae377e",
   "metadata": {},
   "outputs": [
    {
     "name": "stdout",
     "output_type": "stream",
     "text": [
      "[1, 2, 3] [4, 5, 6] [7, 8, 9]\n"
     ]
    }
   ],
   "source": [
    "print(arr[0],arr[1],arr[2])"
   ]
  },
  {
   "cell_type": "code",
   "execution_count": 13,
   "id": "4ac227bb",
   "metadata": {},
   "outputs": [],
   "source": [
    "# first diagonal"
   ]
  },
  {
   "cell_type": "code",
   "execution_count": 14,
   "id": "fd4fbe8b",
   "metadata": {},
   "outputs": [
    {
     "name": "stdout",
     "output_type": "stream",
     "text": [
      "1 5 9\n"
     ]
    }
   ],
   "source": [
    "print(arr[0][0],arr[1][1],arr[2][2])"
   ]
  },
  {
   "cell_type": "code",
   "execution_count": 18,
   "id": "ad51f8bd",
   "metadata": {},
   "outputs": [
    {
     "name": "stdout",
     "output_type": "stream",
     "text": [
      "3 5 7\n"
     ]
    }
   ],
   "source": [
    "print(arr[0][2], arr[1][1], arr[2][0])"
   ]
  },
  {
   "cell_type": "code",
   "execution_count": 8,
   "id": "f70e0ca4",
   "metadata": {},
   "outputs": [],
   "source": [
    "# To calculate left diagonal 1,5,9. a is row, b is column "
   ]
  },
  {
   "cell_type": "code",
   "execution_count": 19,
   "id": "737b25fe",
   "metadata": {},
   "outputs": [
    {
     "name": "stdout",
     "output_type": "stream",
     "text": [
      "1\n",
      "5\n",
      "9\n"
     ]
    }
   ],
   "source": [
    "a,b = 0,0 \n",
    "\n",
    "while (a<len(arr)):\n",
    "    print(arr[a][b])\n",
    "    a+=1\n",
    "    b+=1"
   ]
  },
  {
   "cell_type": "code",
   "execution_count": null,
   "id": "889eec65",
   "metadata": {},
   "outputs": [],
   "source": [
    "# To calculate right diagonal 3,5,7. Starts from last column and goes one column before. a is first row, and b to be the last column."
   ]
  },
  {
   "cell_type": "code",
   "execution_count": 22,
   "id": "369baa8c",
   "metadata": {},
   "outputs": [
    {
     "name": "stdout",
     "output_type": "stream",
     "text": [
      "3\n",
      "5\n",
      "7\n"
     ]
    }
   ],
   "source": [
    "a = 0\n",
    "b = len(arr)-1\n",
    "while(a<len(arr)):\n",
    "    print(arr[a][b])\n",
    "    a+=1\n",
    "    b-=1"
   ]
  },
  {
   "cell_type": "code",
   "execution_count": 25,
   "id": "625dad15",
   "metadata": {},
   "outputs": [],
   "source": [
    "def diagonalDifference(arr):\n",
    "    leftDiagonalSum, rightDiagonalSum = 0,0\n",
    "    \n",
    "    a = 0\n",
    "    b = 0\n",
    "    while(i<len(arr)):\n",
    "        leftDiagonalSum += arr[a][b]\n",
    "        a+=1\n",
    "        b+=1\n",
    "        \n",
    "    c = 0\n",
    "    d = 0\n",
    "    while(c<len(arr)-1):\n",
    "        rightDiagonalSum += arr[c][d]\n",
    "        c+=1\n",
    "        d-=1\n",
    "        \n",
    "    return abs(leftDiagonalSum - rightDiagonalSum)     "
   ]
  },
  {
   "cell_type": "code",
   "execution_count": 26,
   "id": "4e67c1d9",
   "metadata": {},
   "outputs": [],
   "source": [
    "# above is only correct for array at top"
   ]
  },
  {
   "cell_type": "code",
   "execution_count": 27,
   "id": "81a16a7b",
   "metadata": {},
   "outputs": [],
   "source": [
    "arr = [[3],\n",
    "       [11,2,4],\n",
    "       [4,5,6],\n",
    "       [10,8,-12]]"
   ]
  },
  {
   "cell_type": "code",
   "execution_count": 28,
   "id": "bcceaa46",
   "metadata": {},
   "outputs": [],
   "source": [
    "def diagonalDifference(arr):\n",
    "    \n",
    "    leftDiagonalSum = rightDiagonalSum = 0\n",
    "    \n",
    "    for i in range (n):\n",
    "        leftDiagonalSum += arr[i][i]\n",
    "        rightDiagonalSum += arr[i][n-1-i]\n",
    "        \n",
    "    return abs(leftDiagonalSum-rightDiagonalSum)"
   ]
  }
 ],
 "metadata": {
  "kernelspec": {
   "display_name": "Python 3",
   "language": "python",
   "name": "python3"
  },
  "language_info": {
   "codemirror_mode": {
    "name": "ipython",
    "version": 3
   },
   "file_extension": ".py",
   "mimetype": "text/x-python",
   "name": "python",
   "nbconvert_exporter": "python",
   "pygments_lexer": "ipython3",
   "version": "3.8.8"
  }
 },
 "nbformat": 4,
 "nbformat_minor": 5
}
