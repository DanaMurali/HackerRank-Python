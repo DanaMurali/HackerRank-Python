{
 "cells": [
  {
   "cell_type": "code",
   "execution_count": 1,
   "id": "7d3a7da1",
   "metadata": {},
   "outputs": [],
   "source": [
    "a = [1,2,3,4,3,2,1]"
   ]
  },
  {
   "cell_type": "code",
   "execution_count": null,
   "id": "617700f4",
   "metadata": {},
   "outputs": [],
   "source": [
    "# can solve using hashmap however this takes up space complexity"
   ]
  },
  {
   "cell_type": "code",
   "execution_count": 1,
   "id": "71526c9d",
   "metadata": {},
   "outputs": [],
   "source": [
    "def lonelyinteger(a):\n",
    "    number = 0\n",
    "    for numbers in a:\n",
    "        number^=numbers\n",
    "    return number    \n",
    " "
   ]
  },
  {
   "cell_type": "code",
   "execution_count": null,
   "id": "8cc60507",
   "metadata": {},
   "outputs": [],
   "source": [
    "# same O(N)-time complexity as hashmap but less space complexity"
   ]
  }
 ],
 "metadata": {
  "kernelspec": {
   "display_name": "Python 3",
   "language": "python",
   "name": "python3"
  },
  "language_info": {
   "codemirror_mode": {
    "name": "ipython",
    "version": 3
   },
   "file_extension": ".py",
   "mimetype": "text/x-python",
   "name": "python",
   "nbconvert_exporter": "python",
   "pygments_lexer": "ipython3",
   "version": "3.8.8"
  }
 },
 "nbformat": 4,
 "nbformat_minor": 5
}
