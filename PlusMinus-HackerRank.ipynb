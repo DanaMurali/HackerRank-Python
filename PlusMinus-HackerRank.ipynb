{
 "cells": [
  {
   "cell_type": "code",
   "execution_count": null,
   "id": "ed44931c",
   "metadata": {},
   "outputs": [],
   "source": [
    "def plusMinus(arr):\n",
    "    positive = negative = zero = 0\n",
    "    \n",
    "    for i in range (n):\n",
    "        if arr[i] > 0:\n",
    "            positive += 1\n",
    "        elif arr[i] < 0:\n",
    "            negative += 1\n",
    "        else:\n",
    "            zero += 1\n",
    "    \n",
    "    print(positive/n)\n",
    "    print(negative/n)\n",
    "    print(zero/n)        \n"
   ]
  }
 ],
 "metadata": {
  "kernelspec": {
   "display_name": "Python 3",
   "language": "python",
   "name": "python3"
  },
  "language_info": {
   "codemirror_mode": {
    "name": "ipython",
    "version": 3
   },
   "file_extension": ".py",
   "mimetype": "text/x-python",
   "name": "python",
   "nbconvert_exporter": "python",
   "pygments_lexer": "ipython3",
   "version": "3.8.8"
  }
 },
 "nbformat": 4,
 "nbformat_minor": 5
}
