{
 "cells": [
  {
   "cell_type": "code",
   "execution_count": 28,
   "id": "07da3fe4",
   "metadata": {},
   "outputs": [],
   "source": [
    "n = '9875'\n",
    "k = 4"
   ]
  },
  {
   "cell_type": "code",
   "execution_count": 29,
   "id": "fa3f0f10",
   "metadata": {},
   "outputs": [],
   "source": [
    "p = \"\".join([n]*k)"
   ]
  },
  {
   "cell_type": "code",
   "execution_count": 30,
   "id": "3d02c5f6",
   "metadata": {},
   "outputs": [
    {
     "name": "stdout",
     "output_type": "stream",
     "text": [
      "9875987598759875\n"
     ]
    }
   ],
   "source": [
    "print(p)"
   ]
  },
  {
   "cell_type": "code",
   "execution_count": 31,
   "id": "f185f15e",
   "metadata": {},
   "outputs": [],
   "source": [
    "arr = [int(digit)for digit in str(p)]"
   ]
  },
  {
   "cell_type": "code",
   "execution_count": 32,
   "id": "700dcd96",
   "metadata": {},
   "outputs": [
    {
     "name": "stdout",
     "output_type": "stream",
     "text": [
      "[9, 8, 7, 5, 9, 8, 7, 5, 9, 8, 7, 5, 9, 8, 7, 5]\n"
     ]
    }
   ],
   "source": [
    "print(arr)"
   ]
  },
  {
   "cell_type": "code",
   "execution_count": null,
   "id": "cc8663c7",
   "metadata": {},
   "outputs": [],
   "source": [
    "def superDigit(n,k):\n",
    "    #creating function to add everything in array. If the value is less than 10 then it is the super digit.\n",
    "    def sumDigit(v):\n",
    "        if v<10:\n",
    "            return v\n",
    "        #summing every int i in the whole string v and returning sumDIgit function of this value in case >10.\n",
    "        s = sum(int(i) for i in str(v))\n",
    "        return sumDigit(s)\n",
    "    x = sumDigit(int(n))\n",
    "    return sumDigit(x*k)"
   ]
  },
  {
   "cell_type": "code",
   "execution_count": 33,
   "id": "171df9d2",
   "metadata": {},
   "outputs": [],
   "source": [
    "def superDigit(n,k):\n",
    "    def sumDigit(v):\n",
    "        if v<10:\n",
    "            return v\n",
    "        s = sum(int(i) for i in str(v))\n",
    "        return sumDigit(s)\n",
    "    x = sumDigit(int(n))\n",
    "    return sumDigit(x*k)"
   ]
  }
 ],
 "metadata": {
  "kernelspec": {
   "display_name": "Python 3",
   "language": "python",
   "name": "python3"
  },
  "language_info": {
   "codemirror_mode": {
    "name": "ipython",
    "version": 3
   },
   "file_extension": ".py",
   "mimetype": "text/x-python",
   "name": "python",
   "nbconvert_exporter": "python",
   "pygments_lexer": "ipython3",
   "version": "3.8.8"
  }
 },
 "nbformat": 4,
 "nbformat_minor": 5
}
