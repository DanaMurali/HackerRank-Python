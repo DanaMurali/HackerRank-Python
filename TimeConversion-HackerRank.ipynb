{
 "cells": [
  {
   "cell_type": "code",
   "execution_count": 2,
   "id": "88fe49d6",
   "metadata": {},
   "outputs": [],
   "source": [
    "s = '12:40:20PM'"
   ]
  },
  {
   "cell_type": "code",
   "execution_count": 3,
   "id": "0151ebed",
   "metadata": {},
   "outputs": [],
   "source": [
    "# Split() splits the string into a list of elements"
   ]
  },
  {
   "cell_type": "code",
   "execution_count": 4,
   "id": "3fda51f6",
   "metadata": {},
   "outputs": [
    {
     "data": {
      "text/plain": [
       "['12:40:20PM']"
      ]
     },
     "execution_count": 4,
     "metadata": {},
     "output_type": "execute_result"
    }
   ],
   "source": [
    "s.split()"
   ]
  },
  {
   "cell_type": "code",
   "execution_count": 6,
   "id": "a72039fe",
   "metadata": {},
   "outputs": [
    {
     "data": {
      "text/plain": [
       "['12', '40', '20PM']"
      ]
     },
     "execution_count": 6,
     "metadata": {},
     "output_type": "execute_result"
    }
   ],
   "source": [
    "s.split(':')"
   ]
  },
  {
   "cell_type": "code",
   "execution_count": 7,
   "id": "34457745",
   "metadata": {},
   "outputs": [],
   "source": [
    "string = s.split(':')"
   ]
  },
  {
   "cell_type": "code",
   "execution_count": 8,
   "id": "395b01cc",
   "metadata": {},
   "outputs": [],
   "source": [
    "# Join() - Joins the list of elements and the elements should be of type string"
   ]
  },
  {
   "cell_type": "code",
   "execution_count": 9,
   "id": "d3c816e4",
   "metadata": {},
   "outputs": [
    {
     "data": {
      "text/plain": [
       "'12:40:20PM'"
      ]
     },
     "execution_count": 9,
     "metadata": {},
     "output_type": "execute_result"
    }
   ],
   "source": [
    "':'.join(string)"
   ]
  },
  {
   "cell_type": "code",
   "execution_count": 11,
   "id": "6737db5b",
   "metadata": {},
   "outputs": [],
   "source": [
    "# Slicing the string to extract AM or PM, -2: to get last two characters in string"
   ]
  },
  {
   "cell_type": "code",
   "execution_count": 12,
   "id": "68af1859",
   "metadata": {},
   "outputs": [
    {
     "data": {
      "text/plain": [
       "'PM'"
      ]
     },
     "execution_count": 12,
     "metadata": {},
     "output_type": "execute_result"
    }
   ],
   "source": [
    "s[-2:]"
   ]
  },
  {
   "cell_type": "code",
   "execution_count": 13,
   "id": "147fa921",
   "metadata": {},
   "outputs": [],
   "source": [
    "# Slicing the string except the AM or PM part - :-2 exclude the last two characters in string"
   ]
  },
  {
   "cell_type": "code",
   "execution_count": 14,
   "id": "b478a676",
   "metadata": {},
   "outputs": [
    {
     "data": {
      "text/plain": [
       "'12:40:20'"
      ]
     },
     "execution_count": 14,
     "metadata": {},
     "output_type": "execute_result"
    }
   ],
   "source": [
    "s[:-2]"
   ]
  },
  {
   "cell_type": "code",
   "execution_count": 15,
   "id": "b0b7f178",
   "metadata": {},
   "outputs": [
    {
     "data": {
      "text/plain": [
       "['12', '40', '20']"
      ]
     },
     "execution_count": 15,
     "metadata": {},
     "output_type": "execute_result"
    }
   ],
   "source": [
    "s[:-2].split(':')"
   ]
  },
  {
   "cell_type": "code",
   "execution_count": 23,
   "id": "6426bed4",
   "metadata": {},
   "outputs": [],
   "source": [
    "def timeConversion(s):\n",
    "    time = s[:-2].split(':')\n",
    "    ampm = s[-2:]\n",
    "    \n",
    "    if (ampm == 'PM') and (time != '12'):\n",
    "    #have to convert string to int so we can add and not concatenate strings\n",
    "        time[0] = str(int(time[0])+12) \n",
    "    elif (ampm == 'AM') and (time == '12'):\n",
    "        time[0] = '00' \n",
    "    \n",
    "    twentyfour = ':'.join(time)\n",
    "    return twentyfour"
   ]
  }
 ],
 "metadata": {
  "kernelspec": {
   "display_name": "Python 3",
   "language": "python",
   "name": "python3"
  },
  "language_info": {
   "codemirror_mode": {
    "name": "ipython",
    "version": 3
   },
   "file_extension": ".py",
   "mimetype": "text/x-python",
   "name": "python",
   "nbconvert_exporter": "python",
   "pygments_lexer": "ipython3",
   "version": "3.8.8"
  }
 },
 "nbformat": 4,
 "nbformat_minor": 5
}
