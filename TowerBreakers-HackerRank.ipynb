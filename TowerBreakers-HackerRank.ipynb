{
 "cells": [
  {
   "cell_type": "code",
   "execution_count": null,
   "id": "8357f998",
   "metadata": {},
   "outputs": [],
   "source": [
    "def towerBreakers(n, m):\n",
    "#     m - tower height, if m is equal to 1 return 2 because player has lost\n",
    "    if m == 1:\n",
    "        return 2\n",
    "    else:\n",
    "#         n = number fo towers. if remainder of division n/2 is equal to one the player has won so return 1, otherwise return 2\n",
    "        return 1 if n%2 == 1 else 2"
   ]
  }
 ],
 "metadata": {
  "kernelspec": {
   "display_name": "Python 3",
   "language": "python",
   "name": "python3"
  },
  "language_info": {
   "codemirror_mode": {
    "name": "ipython",
    "version": 3
   },
   "file_extension": ".py",
   "mimetype": "text/x-python",
   "name": "python",
   "nbconvert_exporter": "python",
   "pygments_lexer": "ipython3",
   "version": "3.8.8"
  }
 },
 "nbformat": 4,
 "nbformat_minor": 5
}
