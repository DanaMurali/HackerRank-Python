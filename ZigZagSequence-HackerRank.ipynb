{
 "cells": [
  {
   "cell_type": "code",
   "execution_count": 1,
   "id": "e5f4a67c",
   "metadata": {},
   "outputs": [],
   "source": [
    "a = [2,3,5,1,4]"
   ]
  },
  {
   "cell_type": "code",
   "execution_count": null,
   "id": "41d6f540",
   "metadata": {},
   "outputs": [],
   "source": [
    "# incorrect code:\n",
    "\n",
    "def findZigZagSequence(a, n):\n",
    "    a.sort()\n",
    "    mid = int((n + 1)/2)\n",
    "    a[mid], a[n-1] = a[n-1], a[mid]\n",
    "\n",
    "    st = mid + 1\n",
    "    ed = n - 1\n",
    "    while(st <= ed):\n",
    "        a[st], a[ed] = a[ed], a[st]\n",
    "        st = st + 1\n",
    "        ed = ed + 1\n",
    "\n",
    "    for i in range (n):\n",
    "        if i == n-1:\n",
    "            print(a[i])\n",
    "        else:\n",
    "            print(a[i], end = ' ')\n",
    "    return"
   ]
  },
  {
   "cell_type": "code",
   "execution_count": null,
   "id": "f14cf71c",
   "metadata": {},
   "outputs": [],
   "source": [
    "# corrected code - can modify at most 3 lines. Cannot add or remove lines."
   ]
  },
  {
   "cell_type": "code",
   "execution_count": null,
   "id": "5c82971c",
   "metadata": {},
   "outputs": [],
   "source": [
    "def findZigZagSequence(a, n):\n",
    "#     array is sorted smallest to largest number\n",
    "    a.sort()\n",
    "#     finding middle element of array but this is incorrect. So have to minus 1 to get to middle. \n",
    "    mid = int((n + 1)/2) - 1\n",
    "#     swapping middle element and last element(a[n-1]) in array\n",
    "    a[mid], a[n-1] = a[n-1], a[mid]\n",
    "    \n",
    "# position of the element after middle element \n",
    "    st = mid + 1\n",
    "#     trying to find position of second to last element so -1 is incorrect, have to -2.\n",
    "    ed = n - 2\n",
    "#     while start is less than equal to end, it will perform swapping operation: replacing start with end and end with the start.\n",
    "    while(st <= ed):\n",
    "        a[st], a[ed] = a[ed], a[st]\n",
    "#         incrementing the start position by one so it will perform function for every other element.\n",
    "        st = st + 1\n",
    "#     this is incorrrect, have to decrement the end by 1 so we tranverse backwards through array.\n",
    "        ed = ed - 1\n",
    "#     for looping through every element in array to print out each number.\n",
    "    for i in range (n):\n",
    "        if i == n-1:\n",
    "            print(a[i])\n",
    "        else:\n",
    "            print(a[i], end = ' ')\n",
    "    return"
   ]
  }
 ],
 "metadata": {
  "kernelspec": {
   "display_name": "Python 3",
   "language": "python",
   "name": "python3"
  },
  "language_info": {
   "codemirror_mode": {
    "name": "ipython",
    "version": 3
   },
   "file_extension": ".py",
   "mimetype": "text/x-python",
   "name": "python",
   "nbconvert_exporter": "python",
   "pygments_lexer": "ipython3",
   "version": "3.8.8"
  }
 },
 "nbformat": 4,
 "nbformat_minor": 5
}
